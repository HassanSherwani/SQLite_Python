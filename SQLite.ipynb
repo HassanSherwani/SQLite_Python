{
  "nbformat": 4,
  "nbformat_minor": 0,
  "metadata": {
    "colab": {
      "name": "SQLite.ipynb",
      "version": "0.3.2",
      "provenance": [],
      "collapsed_sections": [],
      "toc_visible": true
    },
    "kernelspec": {
      "name": "python3",
      "display_name": "Python 3"
    }
  },
  "cells": [
    {
      "cell_type": "code",
      "metadata": {
        "id": "U_Pf7elesnYF",
        "colab_type": "code",
        "colab": {}
      },
      "source": [
        ""
      ],
      "execution_count": 0,
      "outputs": []
    },
    {
      "cell_type": "markdown",
      "metadata": {
        "id": "arobFdM8GlTU",
        "colab_type": "text"
      },
      "source": [
        "https://github.com/codewithlennylen/Python-SQLite-Tutorials"
      ]
    },
    {
      "cell_type": "markdown",
      "metadata": {
        "id": "iQHNOSo8EbhM",
        "colab_type": "text"
      },
      "source": [
        "# 1)-Creating a Database File"
      ]
    },
    {
      "cell_type": "code",
      "metadata": {
        "id": "41CgwmimsoJw",
        "colab_type": "code",
        "outputId": "bc1d1659-7709-467a-9566-3a047ffe4f69",
        "colab": {
          "base_uri": "https://localhost:8080/",
          "height": 50
        }
      },
      "source": [
        "import sqlite3\n",
        "\n",
        "dbase = sqlite3.connect('Our_data.db') # Open a database File\n",
        "print ('Database opened')\n",
        "\n",
        "\n",
        "dbase.close()\n",
        "print (' Database Closed')"
      ],
      "execution_count": 1,
      "outputs": [
        {
          "output_type": "stream",
          "text": [
            "Database opened\n",
            " Database Closed\n"
          ],
          "name": "stdout"
        }
      ]
    },
    {
      "cell_type": "markdown",
      "metadata": {
        "id": "1-_5WE9qEj-1",
        "colab_type": "text"
      },
      "source": [
        "# 2)- Creating a table"
      ]
    },
    {
      "cell_type": "code",
      "metadata": {
        "id": "1LvNhXsqssqm",
        "colab_type": "code",
        "outputId": "83ef2c1f-9b9e-4f7d-97d2-f7d209b94077",
        "colab": {
          "base_uri": "https://localhost:8080/",
          "height": 34
        }
      },
      "source": [
        "dbase = sqlite3.connect('Our_data.db') # Open a database File\n",
        "print ('Database opened')"
      ],
      "execution_count": 2,
      "outputs": [
        {
          "output_type": "stream",
          "text": [
            "Database opened\n"
          ],
          "name": "stdout"
        }
      ]
    },
    {
      "cell_type": "code",
      "metadata": {
        "id": "2O5HkQUEEspj",
        "colab_type": "code",
        "outputId": "19558970-6fff-4133-95ea-50d733cc9926",
        "colab": {
          "base_uri": "https://localhost:8080/",
          "height": 34
        }
      },
      "source": [
        "dbase.execute(''' CREATE TABLE IF NOT EXISTS employee_records(\n",
        "    ID INT PRIMARY KEY NOT NULL,\n",
        "    NAME TEXT NOT NULL,\n",
        "    DIVISION TEXT NOT NULL,\n",
        "    STARS INT NOT NULL) ''')\n",
        "\n",
        "print ('Table created')"
      ],
      "execution_count": 3,
      "outputs": [
        {
          "output_type": "stream",
          "text": [
            "Table created\n"
          ],
          "name": "stdout"
        }
      ]
    },
    {
      "cell_type": "code",
      "metadata": {
        "id": "L-46d2ITEzUn",
        "colab_type": "code",
        "outputId": "53dfd206-86d3-4f74-d6d8-a4f13f72c3a9",
        "colab": {
          "base_uri": "https://localhost:8080/",
          "height": 34
        }
      },
      "source": [
        "dbase.close()\n",
        "print (' Database Closed')"
      ],
      "execution_count": 4,
      "outputs": [
        {
          "output_type": "stream",
          "text": [
            " Database Closed\n"
          ],
          "name": "stdout"
        }
      ]
    },
    {
      "cell_type": "markdown",
      "metadata": {
        "id": "wFs9ZtYzFBhN",
        "colab_type": "text"
      },
      "source": [
        "# 3)-Inserting records to our database"
      ]
    },
    {
      "cell_type": "code",
      "metadata": {
        "id": "jLs-G_xhE5UK",
        "colab_type": "code",
        "outputId": "59126d0b-594c-4f50-dd24-d7e325ca3ae7",
        "colab": {
          "base_uri": "https://localhost:8080/",
          "height": 34
        }
      },
      "source": [
        "dbase = sqlite3.connect('Our_data.db') # Open a database File\n",
        "print ('Database opened')"
      ],
      "execution_count": 5,
      "outputs": [
        {
          "output_type": "stream",
          "text": [
            "Database opened\n"
          ],
          "name": "stdout"
        }
      ]
    },
    {
      "cell_type": "code",
      "metadata": {
        "id": "UTpH_s1pFHCn",
        "colab_type": "code",
        "outputId": "02724f3d-8134-44ce-bc93-82f4cfff19b1",
        "colab": {
          "base_uri": "https://localhost:8080/",
          "height": 34
        }
      },
      "source": [
        "dbase.execute(''' CREATE TABLE IF NOT EXISTS employee_records(\n",
        "    ID INT PRIMARY KEY NOT NULL,\n",
        "    NAME TEXT NOT NULL,\n",
        "    DIVISION TEXT NOT NULL,\n",
        "    STARS INT NOT NULL) ''')\n",
        "\n",
        "print ('Table created')"
      ],
      "execution_count": 6,
      "outputs": [
        {
          "output_type": "stream",
          "text": [
            "Table created\n"
          ],
          "name": "stdout"
        }
      ]
    },
    {
      "cell_type": "code",
      "metadata": {
        "id": "f2bi4S3sFKXA",
        "colab_type": "code",
        "outputId": "106a839a-01d7-4173-9594-7d632b6fc2e1",
        "colab": {
          "base_uri": "https://localhost:8080/",
          "height": 34
        }
      },
      "source": [
        "dbase.execute(''' INSERT INTO employee_records(ID,NAME,DIVISION,STARS)\n",
        "        VALUES(5,'James','Maintenance',4)\n",
        "''')"
      ],
      "execution_count": 7,
      "outputs": [
        {
          "output_type": "execute_result",
          "data": {
            "text/plain": [
              "<sqlite3.Cursor at 0x7f97369711f0>"
            ]
          },
          "metadata": {
            "tags": []
          },
          "execution_count": 7
        }
      ]
    },
    {
      "cell_type": "code",
      "metadata": {
        "id": "i4SSkg3YFN9o",
        "colab_type": "code",
        "outputId": "3a571356-142e-4997-add6-4ebeb579dd70",
        "colab": {
          "base_uri": "https://localhost:8080/",
          "height": 34
        }
      },
      "source": [
        "dbase.commit()\n",
        "print ('REcord inserted')"
      ],
      "execution_count": 8,
      "outputs": [
        {
          "output_type": "stream",
          "text": [
            "REcord inserted\n"
          ],
          "name": "stdout"
        }
      ]
    },
    {
      "cell_type": "code",
      "metadata": {
        "id": "IfwtGsWeFSgL",
        "colab_type": "code",
        "outputId": "bbdff7c0-bf60-4c9d-c9fa-22e08877c57f",
        "colab": {
          "base_uri": "https://localhost:8080/",
          "height": 34
        }
      },
      "source": [
        "dbase.close()\n",
        "print (' Database Closed')"
      ],
      "execution_count": 9,
      "outputs": [
        {
          "output_type": "stream",
          "text": [
            " Database Closed\n"
          ],
          "name": "stdout"
        }
      ]
    },
    {
      "cell_type": "markdown",
      "metadata": {
        "id": "1BzsW--iFe9b",
        "colab_type": "text"
      },
      "source": [
        "# 4)-Variables to insert data"
      ]
    },
    {
      "cell_type": "code",
      "metadata": {
        "id": "D7d8wvxKFsyk",
        "colab_type": "code",
        "outputId": "fee64d4c-0261-47d8-91d7-5866ff52eb38",
        "colab": {
          "base_uri": "https://localhost:8080/",
          "height": 34
        }
      },
      "source": [
        "dbase = sqlite3.connect('Our_data.db') # Open a database File\n",
        "print ('Database opened')"
      ],
      "execution_count": 10,
      "outputs": [
        {
          "output_type": "stream",
          "text": [
            "Database opened\n"
          ],
          "name": "stdout"
        }
      ]
    },
    {
      "cell_type": "code",
      "metadata": {
        "id": "8BYhb_g-Fvqe",
        "colab_type": "code",
        "outputId": "eb70f78f-6d72-401f-beb6-2fbd46336070",
        "colab": {
          "base_uri": "https://localhost:8080/",
          "height": 34
        }
      },
      "source": [
        "dbase.execute(''' CREATE TABLE IF NOT EXISTS employee_records(\n",
        "    ID INT PRIMARY KEY NOT NULL,\n",
        "    NAME TEXT NOT NULL,\n",
        "    DIVISION TEXT NOT NULL,\n",
        "    STARS INT NOT NULL) ''')\n",
        "\n",
        "print ('Table created')"
      ],
      "execution_count": 11,
      "outputs": [
        {
          "output_type": "stream",
          "text": [
            "Table created\n"
          ],
          "name": "stdout"
        }
      ]
    },
    {
      "cell_type": "code",
      "metadata": {
        "id": "TjhhhYcjFWzj",
        "colab_type": "code",
        "colab": {}
      },
      "source": [
        "def insert_record(ID,NAME,DIVISION,STARS):\n",
        "    dbase.execute(''' INSERT INTO employee_records(ID,NAME,DIVISION,STARS)\n",
        "            VALUES(?,?,?,?)''',(ID,NAME,DIVISION,STARS))\n",
        "\n",
        "    dbase.commit()\n",
        "    print ('REcord inserted')"
      ],
      "execution_count": 0,
      "outputs": []
    },
    {
      "cell_type": "code",
      "metadata": {
        "id": "G0d7mmIeFnbh",
        "colab_type": "code",
        "outputId": "bf0578bd-cf4f-49a1-9918-d755d812acb4",
        "colab": {
          "base_uri": "https://localhost:8080/",
          "height": 34
        }
      },
      "source": [
        "insert_record(6,'Bob','Hardware',4)"
      ],
      "execution_count": 13,
      "outputs": [
        {
          "output_type": "stream",
          "text": [
            "REcord inserted\n"
          ],
          "name": "stdout"
        }
      ]
    },
    {
      "cell_type": "code",
      "metadata": {
        "id": "X9xQuExkFp93",
        "colab_type": "code",
        "outputId": "f17ec436-ac53-4c18-b96c-9ab526d33201",
        "colab": {
          "base_uri": "https://localhost:8080/",
          "height": 34
        }
      },
      "source": [
        "dbase.close()\n",
        "print (' Database Closed')"
      ],
      "execution_count": 14,
      "outputs": [
        {
          "output_type": "stream",
          "text": [
            " Database Closed\n"
          ],
          "name": "stdout"
        }
      ]
    },
    {
      "cell_type": "markdown",
      "metadata": {
        "id": "SPDNCHh4F6YV",
        "colab_type": "text"
      },
      "source": [
        "# 5)- Reading Data from a Database"
      ]
    },
    {
      "cell_type": "code",
      "metadata": {
        "id": "HzpjzCk3F2Yt",
        "colab_type": "code",
        "outputId": "87a77617-c977-467c-ede2-14f25b8825aa",
        "colab": {
          "base_uri": "https://localhost:8080/",
          "height": 34
        }
      },
      "source": [
        "dbase = sqlite3.connect('Our_data.db') # Open a database File\n",
        "print ('Database opened')"
      ],
      "execution_count": 15,
      "outputs": [
        {
          "output_type": "stream",
          "text": [
            "Database opened\n"
          ],
          "name": "stdout"
        }
      ]
    },
    {
      "cell_type": "code",
      "metadata": {
        "id": "gzXBLK9bF_RY",
        "colab_type": "code",
        "outputId": "a6356c36-c9d0-471c-a084-7ffb409a2deb",
        "colab": {
          "base_uri": "https://localhost:8080/",
          "height": 34
        }
      },
      "source": [
        "dbase.execute(''' CREATE TABLE IF NOT EXISTS employee_records(\n",
        "    ID INT PRIMARY KEY NOT NULL,\n",
        "    NAME TEXT NOT NULL,\n",
        "    DIVISION TEXT NOT NULL,\n",
        "    STARS INT NOT NULL) ''')\n",
        "\n",
        "print ('Table created')"
      ],
      "execution_count": 16,
      "outputs": [
        {
          "output_type": "stream",
          "text": [
            "Table created\n"
          ],
          "name": "stdout"
        }
      ]
    },
    {
      "cell_type": "code",
      "metadata": {
        "id": "m_uYtHjQGA8E",
        "colab_type": "code",
        "colab": {}
      },
      "source": [
        "def insert_record(ID,NAME,DIVISION,STARS):\n",
        "    dbase.execute(''' INSERT INTO employee_records(ID,NAME,DIVISION,STARS)\n",
        "            VALUES(?,?,?,?)''',(ID,NAME,DIVISION,STARS))\n",
        "\n",
        "    dbase.commit()\n",
        "    print ('REcord inserted')"
      ],
      "execution_count": 0,
      "outputs": []
    },
    {
      "cell_type": "code",
      "metadata": {
        "id": "pPo-zKrLGFEZ",
        "colab_type": "code",
        "outputId": "1241f616-8e27-4f0d-d446-683d518465ac",
        "colab": {
          "base_uri": "https://localhost:8080/",
          "height": 185
        }
      },
      "source": [
        "def read_Data():\n",
        "    # from math import *\n",
        "    data = dbase.execute(''' SELECT * FROM employee_records ORDER BY NAME''')\n",
        "    for record in data:\n",
        "        print ('ID : '+str(record[0]))\n",
        "        print ('NAME : '+str(record[1]))\n",
        "        print ('DIVISION : '+str(record[2]))\n",
        "        print ('STARS : '+str(record[3])+'\\n')\n",
        "\n",
        "\n",
        "read_Data()"
      ],
      "execution_count": 18,
      "outputs": [
        {
          "output_type": "stream",
          "text": [
            "ID : 6\n",
            "NAME : Bob\n",
            "DIVISION : Hardware\n",
            "STARS : 4\n",
            "\n",
            "ID : 5\n",
            "NAME : James\n",
            "DIVISION : Maintenance\n",
            "STARS : 4\n",
            "\n"
          ],
          "name": "stdout"
        }
      ]
    },
    {
      "cell_type": "code",
      "metadata": {
        "id": "aLfPHC_XGHlG",
        "colab_type": "code",
        "outputId": "f7475895-6ddb-4a87-9011-893335a7cf7a",
        "colab": {
          "base_uri": "https://localhost:8080/",
          "height": 34
        }
      },
      "source": [
        "dbase.close()\n",
        "print (' Database Closed')"
      ],
      "execution_count": 19,
      "outputs": [
        {
          "output_type": "stream",
          "text": [
            " Database Closed\n"
          ],
          "name": "stdout"
        }
      ]
    },
    {
      "cell_type": "markdown",
      "metadata": {
        "id": "zml4piewD5NE",
        "colab_type": "text"
      },
      "source": [
        "# 6)- Updating a record"
      ]
    },
    {
      "cell_type": "code",
      "metadata": {
        "id": "xwpYq1ZKGU5n",
        "colab_type": "code",
        "colab": {
          "base_uri": "https://localhost:8080/",
          "height": 34
        },
        "outputId": "bc9d6c0a-c67a-424c-d1b0-366020e64f9b"
      },
      "source": [
        "dbase = sqlite3.connect('Our_data.db') # Open a database File\n",
        "print ('Database opened')"
      ],
      "execution_count": 20,
      "outputs": [
        {
          "output_type": "stream",
          "text": [
            "Database opened\n"
          ],
          "name": "stdout"
        }
      ]
    },
    {
      "cell_type": "code",
      "metadata": {
        "id": "2giM4pyhEFiR",
        "colab_type": "code",
        "colab": {
          "base_uri": "https://localhost:8080/",
          "height": 34
        },
        "outputId": "96d4a7f5-c7ae-4221-9b3b-5f11dc5e615c"
      },
      "source": [
        "dbase.execute(''' CREATE TABLE IF NOT EXISTS employee_records(\n",
        "    ID INT PRIMARY KEY NOT NULL,\n",
        "    NAME TEXT NOT NULL,\n",
        "    DIVISION TEXT NOT NULL,\n",
        "    STARS INT NOT NULL) ''')\n",
        "\n",
        "print ('Table created')"
      ],
      "execution_count": 21,
      "outputs": [
        {
          "output_type": "stream",
          "text": [
            "Table created\n"
          ],
          "name": "stdout"
        }
      ]
    },
    {
      "cell_type": "code",
      "metadata": {
        "id": "YItDETsYEFlQ",
        "colab_type": "code",
        "colab": {}
      },
      "source": [
        "def insert_record(ID,NAME,DIVISION,STARS):\n",
        "    dbase.execute(''' INSERT INTO employee_records(ID,NAME,DIVISION,STARS)\n",
        "            VALUES(?,?,?,?)''',(ID,NAME,DIVISION,STARS))\n",
        "\n",
        "    dbase.commit()\n",
        "    print ('REcord inserted')"
      ],
      "execution_count": 0,
      "outputs": []
    },
    {
      "cell_type": "code",
      "metadata": {
        "id": "wjT3O6QEEFoA",
        "colab_type": "code",
        "colab": {
          "base_uri": "https://localhost:8080/",
          "height": 185
        },
        "outputId": "ff4b0881-479c-4330-8567-5da26f2d1855"
      },
      "source": [
        "def read_Data():\n",
        "    # from math import *\n",
        "    data = dbase.execute(''' SELECT * FROM employee_records ORDER BY NAME''')\n",
        "    for record in data:\n",
        "        print ('ID : '+str(record[0]))\n",
        "        print ('NAME : '+str(record[1]))\n",
        "        print ('DIVISION : '+str(record[2]))\n",
        "        print ('STARS : '+str(record[3])+'\\n')\n",
        "\n",
        "\n",
        "read_Data()"
      ],
      "execution_count": 23,
      "outputs": [
        {
          "output_type": "stream",
          "text": [
            "ID : 6\n",
            "NAME : Bob\n",
            "DIVISION : Hardware\n",
            "STARS : 4\n",
            "\n",
            "ID : 5\n",
            "NAME : James\n",
            "DIVISION : Maintenance\n",
            "STARS : 4\n",
            "\n"
          ],
          "name": "stdout"
        }
      ]
    },
    {
      "cell_type": "code",
      "metadata": {
        "id": "8bspIEl1EFqw",
        "colab_type": "code",
        "colab": {
          "base_uri": "https://localhost:8080/",
          "height": 218
        },
        "outputId": "3943d312-29a7-49a0-943e-1406b3719a71"
      },
      "source": [
        "def update_record():\n",
        "    dbase.execute(''' UPDATE employee_records set STARS=3 WHERE ID=2 ''')\n",
        "    dbase.commit()\n",
        "    print ('Updated')\n",
        "\n",
        "update_record()\n",
        "print ('----------------------')\n",
        "read_Data()"
      ],
      "execution_count": 24,
      "outputs": [
        {
          "output_type": "stream",
          "text": [
            "Updated\n",
            "----------------------\n",
            "ID : 6\n",
            "NAME : Bob\n",
            "DIVISION : Hardware\n",
            "STARS : 4\n",
            "\n",
            "ID : 5\n",
            "NAME : James\n",
            "DIVISION : Maintenance\n",
            "STARS : 4\n",
            "\n"
          ],
          "name": "stdout"
        }
      ]
    },
    {
      "cell_type": "code",
      "metadata": {
        "id": "1r344jiCEd93",
        "colab_type": "code",
        "colab": {
          "base_uri": "https://localhost:8080/",
          "height": 34
        },
        "outputId": "1bfa7d7c-bca3-484e-e48f-93b21b4efb7e"
      },
      "source": [
        "dbase.close()\n",
        "print (' Database Closed')"
      ],
      "execution_count": 25,
      "outputs": [
        {
          "output_type": "stream",
          "text": [
            " Database Closed\n"
          ],
          "name": "stdout"
        }
      ]
    },
    {
      "cell_type": "markdown",
      "metadata": {
        "id": "C2L9HP8yFJii",
        "colab_type": "text"
      },
      "source": [
        "# 7)- Delete a record"
      ]
    },
    {
      "cell_type": "code",
      "metadata": {
        "id": "5Vca_tYsEvgC",
        "colab_type": "code",
        "colab": {
          "base_uri": "https://localhost:8080/",
          "height": 34
        },
        "outputId": "1a73bd43-b85a-4488-a7e7-398777536357"
      },
      "source": [
        "dbase = sqlite3.connect('Our_data.db') # Open a database File\n",
        "print ('Database opened')"
      ],
      "execution_count": 26,
      "outputs": [
        {
          "output_type": "stream",
          "text": [
            "Database opened\n"
          ],
          "name": "stdout"
        }
      ]
    },
    {
      "cell_type": "code",
      "metadata": {
        "id": "8r9ux27FFOub",
        "colab_type": "code",
        "colab": {
          "base_uri": "https://localhost:8080/",
          "height": 34
        },
        "outputId": "a807e97d-f93f-4762-dee8-c0d6f5445d90"
      },
      "source": [
        "dbase.execute(''' CREATE TABLE IF NOT EXISTS employee_records(\n",
        "    ID INT PRIMARY KEY NOT NULL,\n",
        "    NAME TEXT NOT NULL,\n",
        "    DIVISION TEXT NOT NULL,\n",
        "    STARS INT NOT NULL) ''')\n",
        "\n",
        "print ('Table created')"
      ],
      "execution_count": 27,
      "outputs": [
        {
          "output_type": "stream",
          "text": [
            "Table created\n"
          ],
          "name": "stdout"
        }
      ]
    },
    {
      "cell_type": "code",
      "metadata": {
        "id": "_pXyT-pDFQv_",
        "colab_type": "code",
        "colab": {}
      },
      "source": [
        "def insert_record(ID,NAME,DIVISION,STARS):\n",
        "    dbase.execute(''' INSERT INTO employee_records(ID,NAME,DIVISION,STARS)\n",
        "            VALUES(?,?,?,?)''',(ID,NAME,DIVISION,STARS))\n",
        "\n",
        "    dbase.commit()\n",
        "    print ('REcord inserted')"
      ],
      "execution_count": 0,
      "outputs": []
    },
    {
      "cell_type": "code",
      "metadata": {
        "id": "ds7JJaS-FTTx",
        "colab_type": "code",
        "colab": {}
      },
      "source": [
        "def read_Data():\n",
        "    # from math import *\n",
        "    data = dbase.execute(''' SELECT * FROM employee_records ORDER BY NAME''')\n",
        "    for record in data:\n",
        "        print ('ID : '+str(record[0]))\n",
        "        print ('NAME : '+str(record[1]))\n",
        "        print ('DIVISION : '+str(record[2]))\n",
        "        print ('STARS : '+str(record[3])+'\\n')"
      ],
      "execution_count": 0,
      "outputs": []
    },
    {
      "cell_type": "code",
      "metadata": {
        "id": "xpzCvz73FZ1m",
        "colab_type": "code",
        "colab": {}
      },
      "source": [
        "def update_record():\n",
        "    dbase.execute(''' UPDATE employee_records set STARS=3 WHERE ID=2 ''')\n",
        "    dbase.commit()\n",
        "    print ('Updated')"
      ],
      "execution_count": 0,
      "outputs": []
    },
    {
      "cell_type": "code",
      "metadata": {
        "id": "lJiD8D82GXvq",
        "colab_type": "code",
        "colab": {
          "base_uri": "https://localhost:8080/",
          "height": 218
        },
        "outputId": "2ff1bb2b-07d0-4207-c6c6-9b30d3e5fd17"
      },
      "source": [
        "def delete_record():\n",
        "    dbase.execute(''' DELETE from employee_records WHERE ID = 1 ''')\n",
        "    dbase.commit()\n",
        "    print ('Deleted')\n",
        "\n",
        "delete_record()\n",
        "print ('----------------------')\n",
        "read_Data()"
      ],
      "execution_count": 31,
      "outputs": [
        {
          "output_type": "stream",
          "text": [
            "Deleted\n",
            "----------------------\n",
            "ID : 6\n",
            "NAME : Bob\n",
            "DIVISION : Hardware\n",
            "STARS : 4\n",
            "\n",
            "ID : 5\n",
            "NAME : James\n",
            "DIVISION : Maintenance\n",
            "STARS : 4\n",
            "\n"
          ],
          "name": "stdout"
        }
      ]
    },
    {
      "cell_type": "markdown",
      "metadata": {
        "id": "cKGk0wrQG5Nw",
        "colab_type": "text"
      },
      "source": [
        "# 8)- Adding more"
      ]
    },
    {
      "cell_type": "code",
      "metadata": {
        "id": "bfnLUSkDGf2i",
        "colab_type": "code",
        "colab": {
          "base_uri": "https://localhost:8080/",
          "height": 50
        },
        "outputId": "d35f26a4-b2ea-4a2b-9cc8-9c96660170b3"
      },
      "source": [
        "dbase = sqlite3.connect('Our_data.db') # Open a database File\n",
        "cursor = dbase.cursor()\n",
        "print ('Database opened')\n",
        "print ('Cursor created')"
      ],
      "execution_count": 32,
      "outputs": [
        {
          "output_type": "stream",
          "text": [
            "Database opened\n",
            "Cursor created\n"
          ],
          "name": "stdout"
        }
      ]
    },
    {
      "cell_type": "code",
      "metadata": {
        "id": "b2JAYOm-HBeE",
        "colab_type": "code",
        "colab": {
          "base_uri": "https://localhost:8080/",
          "height": 34
        },
        "outputId": "e43a4a03-c6e1-4ac3-cf8f-84aaa043e5a2"
      },
      "source": [
        "dbase.execute(''' CREATE TABLE IF NOT EXISTS employee_records(\n",
        "    ID INT PRIMARY KEY NOT NULL,\n",
        "    NAME TEXT NOT NULL,\n",
        "    DIVISION TEXT NOT NULL,\n",
        "    STARS INT NOT NULL) ''')\n",
        "\n",
        "print ('Table created')"
      ],
      "execution_count": 33,
      "outputs": [
        {
          "output_type": "stream",
          "text": [
            "Table created\n"
          ],
          "name": "stdout"
        }
      ]
    },
    {
      "cell_type": "code",
      "metadata": {
        "id": "4xfUjlpYHFtU",
        "colab_type": "code",
        "colab": {}
      },
      "source": [
        "def read_Data():\n",
        "    # from math import *\n",
        "    data = cursor.execute(''' SELECT * FROM employee_records ORDER BY NAME''')\n",
        "    for record in data:\n",
        "        print ('ID : '+str(record[0]))\n",
        "        print ('NAME : '+str(record[1]))\n",
        "        print ('DIVISION : '+str(record[2]))\n",
        "        print ('STARS : '+str(record[3])+'\\n')"
      ],
      "execution_count": 0,
      "outputs": []
    },
    {
      "cell_type": "code",
      "metadata": {
        "id": "iSvCdMjOHPT7",
        "colab_type": "code",
        "colab": {}
      },
      "source": [
        "def check_Data():\n",
        "    # from math import *\n",
        "    data = cursor.execute(''' SELECT NAME FROM employee_records WHERE ID =2''')\n",
        "    x = data.fetchall()\n",
        "    if x == []:\n",
        "        print ('Doesnt exist')\n",
        "    else:\n",
        "        print (x)"
      ],
      "execution_count": 0,
      "outputs": []
    },
    {
      "cell_type": "code",
      "metadata": {
        "id": "-qwuxjL3HT2U",
        "colab_type": "code",
        "colab": {
          "base_uri": "https://localhost:8080/",
          "height": 34
        },
        "outputId": "16d8dd3f-98e7-4370-c01a-5eea0c2dce1d"
      },
      "source": [
        "def update_record():\n",
        "    dbase.execute(''' UPDATE employee_records set STARS=3 WHERE ID=2 ''')\n",
        "    dbase.commit()\n",
        "    print ('Updated')\n",
        "\n",
        "\n",
        "dbase.close()\n",
        "print (' Database Closed')"
      ],
      "execution_count": 36,
      "outputs": [
        {
          "output_type": "stream",
          "text": [
            " Database Closed\n"
          ],
          "name": "stdout"
        }
      ]
    }
  ]
}